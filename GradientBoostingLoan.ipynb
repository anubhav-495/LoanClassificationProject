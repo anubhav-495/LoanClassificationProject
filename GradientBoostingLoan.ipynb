{
 "cells": [
  {
   "cell_type": "code",
   "execution_count": 1,
   "id": "00a88ebb-9fd2-4b46-a4f0-50b303564c13",
   "metadata": {},
   "outputs": [],
   "source": [
    "import numpy as np\n",
    "import pandas as pd \n",
    "import matplotlib.pyplot as plt\n",
    "import seaborn as sns \n",
    "import warnings\n",
    "warnings.simplefilter(\"ignore\")"
   ]
  },
  {
   "cell_type": "code",
   "execution_count": 2,
   "id": "fb3aea65-35a3-455b-978f-341039dd7377",
   "metadata": {},
   "outputs": [],
   "source": [
    "df=pd.read_csv(\"CleanedLoanData.csv\")"
   ]
  },
  {
   "cell_type": "code",
   "execution_count": 3,
   "id": "c926141d-06f1-438b-9f23-b527992e386d",
   "metadata": {},
   "outputs": [
    {
     "data": {
      "text/html": [
       "<div>\n",
       "<style scoped>\n",
       "    .dataframe tbody tr th:only-of-type {\n",
       "        vertical-align: middle;\n",
       "    }\n",
       "\n",
       "    .dataframe tbody tr th {\n",
       "        vertical-align: top;\n",
       "    }\n",
       "\n",
       "    .dataframe thead th {\n",
       "        text-align: right;\n",
       "    }\n",
       "</style>\n",
       "<table border=\"1\" class=\"dataframe\">\n",
       "  <thead>\n",
       "    <tr style=\"text-align: right;\">\n",
       "      <th></th>\n",
       "      <th>person_age</th>\n",
       "      <th>person_education</th>\n",
       "      <th>person_income</th>\n",
       "      <th>person_emp_exp</th>\n",
       "      <th>loan_amnt</th>\n",
       "      <th>loan_int_rate</th>\n",
       "      <th>loan_percent_income</th>\n",
       "      <th>cb_person_cred_hist_length</th>\n",
       "      <th>credit_score</th>\n",
       "      <th>loan_status</th>\n",
       "      <th>person_gender_male</th>\n",
       "      <th>person_home_ownership_OTHER</th>\n",
       "      <th>person_home_ownership_OWN</th>\n",
       "      <th>person_home_ownership_RENT</th>\n",
       "      <th>loan_intent_EDUCATION</th>\n",
       "      <th>loan_intent_HOMEIMPROVEMENT</th>\n",
       "      <th>loan_intent_MEDICAL</th>\n",
       "      <th>loan_intent_PERSONAL</th>\n",
       "      <th>loan_intent_VENTURE</th>\n",
       "      <th>previous_loan_defaults_on_file_Yes</th>\n",
       "    </tr>\n",
       "  </thead>\n",
       "  <tbody>\n",
       "    <tr>\n",
       "      <th>0</th>\n",
       "      <td>0.400888</td>\n",
       "      <td>3</td>\n",
       "      <td>7.116215</td>\n",
       "      <td>0</td>\n",
       "      <td>44.928204</td>\n",
       "      <td>16.02</td>\n",
       "      <td>0.181480</td>\n",
       "      <td>3.0</td>\n",
       "      <td>561</td>\n",
       "      <td>1</td>\n",
       "      <td>False</td>\n",
       "      <td>False</td>\n",
       "      <td>False</td>\n",
       "      <td>True</td>\n",
       "      <td>False</td>\n",
       "      <td>False</td>\n",
       "      <td>False</td>\n",
       "      <td>True</td>\n",
       "      <td>False</td>\n",
       "      <td>False</td>\n",
       "    </tr>\n",
       "    <tr>\n",
       "      <th>1</th>\n",
       "      <td>0.400869</td>\n",
       "      <td>2</td>\n",
       "      <td>6.401416</td>\n",
       "      <td>0</td>\n",
       "      <td>17.192952</td>\n",
       "      <td>11.14</td>\n",
       "      <td>0.064705</td>\n",
       "      <td>2.0</td>\n",
       "      <td>504</td>\n",
       "      <td>0</td>\n",
       "      <td>False</td>\n",
       "      <td>False</td>\n",
       "      <td>True</td>\n",
       "      <td>False</td>\n",
       "      <td>True</td>\n",
       "      <td>False</td>\n",
       "      <td>False</td>\n",
       "      <td>False</td>\n",
       "      <td>False</td>\n",
       "      <td>True</td>\n",
       "    </tr>\n",
       "    <tr>\n",
       "      <th>2</th>\n",
       "      <td>0.400930</td>\n",
       "      <td>2</td>\n",
       "      <td>6.406924</td>\n",
       "      <td>3</td>\n",
       "      <td>27.675832</td>\n",
       "      <td>12.87</td>\n",
       "      <td>0.175681</td>\n",
       "      <td>3.0</td>\n",
       "      <td>635</td>\n",
       "      <td>1</td>\n",
       "      <td>False</td>\n",
       "      <td>False</td>\n",
       "      <td>False</td>\n",
       "      <td>False</td>\n",
       "      <td>False</td>\n",
       "      <td>False</td>\n",
       "      <td>True</td>\n",
       "      <td>False</td>\n",
       "      <td>False</td>\n",
       "      <td>False</td>\n",
       "    </tr>\n",
       "    <tr>\n",
       "      <th>3</th>\n",
       "      <td>0.400904</td>\n",
       "      <td>0</td>\n",
       "      <td>7.154530</td>\n",
       "      <td>0</td>\n",
       "      <td>44.928204</td>\n",
       "      <td>15.23</td>\n",
       "      <td>0.175681</td>\n",
       "      <td>2.0</td>\n",
       "      <td>675</td>\n",
       "      <td>1</td>\n",
       "      <td>False</td>\n",
       "      <td>False</td>\n",
       "      <td>False</td>\n",
       "      <td>True</td>\n",
       "      <td>False</td>\n",
       "      <td>False</td>\n",
       "      <td>True</td>\n",
       "      <td>False</td>\n",
       "      <td>False</td>\n",
       "      <td>False</td>\n",
       "    </tr>\n",
       "    <tr>\n",
       "      <th>4</th>\n",
       "      <td>0.400918</td>\n",
       "      <td>3</td>\n",
       "      <td>7.084614</td>\n",
       "      <td>1</td>\n",
       "      <td>44.928204</td>\n",
       "      <td>14.27</td>\n",
       "      <td>0.185389</td>\n",
       "      <td>4.0</td>\n",
       "      <td>586</td>\n",
       "      <td>1</td>\n",
       "      <td>True</td>\n",
       "      <td>False</td>\n",
       "      <td>False</td>\n",
       "      <td>True</td>\n",
       "      <td>False</td>\n",
       "      <td>False</td>\n",
       "      <td>True</td>\n",
       "      <td>False</td>\n",
       "      <td>False</td>\n",
       "      <td>False</td>\n",
       "    </tr>\n",
       "  </tbody>\n",
       "</table>\n",
       "</div>"
      ],
      "text/plain": [
       "   person_age  person_education  person_income  person_emp_exp  loan_amnt  \\\n",
       "0    0.400888                 3       7.116215               0  44.928204   \n",
       "1    0.400869                 2       6.401416               0  17.192952   \n",
       "2    0.400930                 2       6.406924               3  27.675832   \n",
       "3    0.400904                 0       7.154530               0  44.928204   \n",
       "4    0.400918                 3       7.084614               1  44.928204   \n",
       "\n",
       "   loan_int_rate  loan_percent_income  cb_person_cred_hist_length  \\\n",
       "0          16.02             0.181480                         3.0   \n",
       "1          11.14             0.064705                         2.0   \n",
       "2          12.87             0.175681                         3.0   \n",
       "3          15.23             0.175681                         2.0   \n",
       "4          14.27             0.185389                         4.0   \n",
       "\n",
       "   credit_score  loan_status  person_gender_male  person_home_ownership_OTHER  \\\n",
       "0           561            1               False                        False   \n",
       "1           504            0               False                        False   \n",
       "2           635            1               False                        False   \n",
       "3           675            1               False                        False   \n",
       "4           586            1                True                        False   \n",
       "\n",
       "   person_home_ownership_OWN  person_home_ownership_RENT  \\\n",
       "0                      False                        True   \n",
       "1                       True                       False   \n",
       "2                      False                       False   \n",
       "3                      False                        True   \n",
       "4                      False                        True   \n",
       "\n",
       "   loan_intent_EDUCATION  loan_intent_HOMEIMPROVEMENT  loan_intent_MEDICAL  \\\n",
       "0                  False                        False                False   \n",
       "1                   True                        False                False   \n",
       "2                  False                        False                 True   \n",
       "3                  False                        False                 True   \n",
       "4                  False                        False                 True   \n",
       "\n",
       "   loan_intent_PERSONAL  loan_intent_VENTURE  \\\n",
       "0                  True                False   \n",
       "1                 False                False   \n",
       "2                 False                False   \n",
       "3                 False                False   \n",
       "4                 False                False   \n",
       "\n",
       "   previous_loan_defaults_on_file_Yes  \n",
       "0                               False  \n",
       "1                                True  \n",
       "2                               False  \n",
       "3                               False  \n",
       "4                               False  "
      ]
     },
     "execution_count": 3,
     "metadata": {},
     "output_type": "execute_result"
    }
   ],
   "source": [
    "df.head()"
   ]
  },
  {
   "cell_type": "code",
   "execution_count": 4,
   "id": "ae009028-82b7-44db-b1bb-279f8e29adfd",
   "metadata": {},
   "outputs": [],
   "source": [
    "x=df.drop(\"loan_status\",axis=1)\n",
    "y=df[\"loan_status\"]"
   ]
  },
  {
   "cell_type": "code",
   "execution_count": 5,
   "id": "24f485f7-232a-469e-93bc-30d52984617b",
   "metadata": {},
   "outputs": [],
   "source": [
    "contnious=[\"person_age\",\"person_income\",\"loan_amnt\",\"loan_int_rate\",\"loan_percent_income\",\n",
    "          \"credit_score\"]"
   ]
  },
  {
   "cell_type": "code",
   "execution_count": 6,
   "id": "63e7a1e0-af3d-4c11-94fc-959aecc6eb7e",
   "metadata": {},
   "outputs": [],
   "source": [
    "from sklearn.model_selection import train_test_split\n",
    "x_train,x_test,y_train,y_test=train_test_split(x,y,train_size=0.8,random_state=77)"
   ]
  },
  {
   "cell_type": "code",
   "execution_count": 7,
   "id": "44b5fe3b-5cd0-4e7b-af6e-f0deddba000b",
   "metadata": {},
   "outputs": [],
   "source": [
    "from sklearn.preprocessing import StandardScaler\n",
    "sc=StandardScaler()\n",
    "x_train[contnious]=sc.fit_transform(x_train[contnious])\n",
    "x_test[contnious]=sc.transform(x_test[contnious])"
   ]
  },
  {
   "cell_type": "code",
   "execution_count": null,
   "id": "5c889b1b-c4e6-4142-bed9-977865e95386",
   "metadata": {
    "scrolled": true
   },
   "outputs": [],
   "source": [
    "from sklearn.ensemble import GradientBoostingClassifier\n",
    "from sklearn.model_selection import GridSearchCV\n",
    "\n",
    "estimators=GradientBoostingClassifier(random_state=True)\n",
    "param_grids={\"n_estimators\":list(range(25,51)),\n",
    "            \"learning_rate\" : [0.1,0.2,0.3,0.4,0.5,0.6,0.7,0.8,0.9,1]}\n",
    "grid=GridSearchCV(estimators,param_grids,cv=5,scoring=\"accuracy\")\n",
    "grid.fit(x_train,y_train)\n",
    "grid.best_params_"
   ]
  },
  {
   "cell_type": "code",
   "execution_count": null,
   "id": "c19871b9-ecba-466f-b3a7-662192093a69",
   "metadata": {},
   "outputs": [],
   "source": [
    "grid.best_estimator_.feature_importances_"
   ]
  },
  {
   "cell_type": "code",
   "execution_count": null,
   "id": "60d777a6-3be8-4036-aef3-7d5d9fbcacd4",
   "metadata": {},
   "outputs": [],
   "source": [
    "newDF=pd.DataFrame(grid.best_estimator_.feature_importances_,\n",
    "                  columns=[\"impFeature\"],\n",
    "                  index=x_train.columns.tolist())\n",
    "imp=newDF.index.tolist()\n",
    "newDF"
   ]
  },
  {
   "cell_type": "code",
   "execution_count": null,
   "id": "ef33a2bf-61d6-427c-936b-deb829d9315a",
   "metadata": {},
   "outputs": [],
   "source": [
    "x_train=x_train[imp]\n",
    "x_test=x_test[imp]"
   ]
  },
  {
   "cell_type": "code",
   "execution_count": 14,
   "id": "35c68c0b-50b1-49f1-8cc8-40a49e54b8d2",
   "metadata": {},
   "outputs": [
    {
     "name": "stdout",
     "output_type": "stream",
     "text": [
      "TrainAccuracy:  0.931881320146683   TestAccuracy:  0.925436159573286   TrainCV 0.9285753808399313\n"
     ]
    }
   ],
   "source": [
    "from sklearn.ensemble import GradientBoostingClassifier\n",
    "model=GradientBoostingClassifier(learning_rate= 0.7, random_state=True,n_estimators= 25)\n",
    "model.fit(x_train,y_train)\n",
    "\n",
    "ypredTrain=model.predict(x_train)\n",
    "ypredTest=model.predict(x_test)\n",
    "\n",
    "#Accuracy\n",
    "from sklearn.metrics import accuracy_score\n",
    "TrainAccuracy=accuracy_score(y_train,ypredTrain)\n",
    "TestAccuracy=accuracy_score(y_test,ypredTest)\n",
    "\n",
    "#CrossVal\n",
    "from sklearn.model_selection import cross_val_score\n",
    "TrainCV=cross_val_score(model,x_train,y_train,cv=5,scoring=\"accuracy\").mean()\n",
    "\n",
    "#print\n",
    "print(\"TrainAccuracy: \",TrainAccuracy,\" \",\"TestAccuracy: \",TestAccuracy,\" \",\"TrainCV\",TrainCV)"
   ]
  },
  {
   "cell_type": "code",
   "execution_count": null,
   "id": "548a7b17-4d3b-45b2-aa8b-ec854886f413",
   "metadata": {},
   "outputs": [],
   "source": [
    "#TrainAccuracy:  0.931881320146683   TestAccuracy:  0.925436159573286   TrainCV 0.9285753808399313\n",
    "# lr=0.7,n_e=25"
   ]
  },
  {
   "cell_type": "code",
   "execution_count": null,
   "id": "988d9419-c916-449b-a003-75911fe6640b",
   "metadata": {},
   "outputs": [],
   "source": []
  },
  {
   "cell_type": "code",
   "execution_count": 19,
   "id": "b44e7882-578f-448e-a7e0-8ee0f3a1b83b",
   "metadata": {},
   "outputs": [
    {
     "data": {
      "text/plain": [
       "'../input/melbourne-housing-snapshot/melb_data.csv'"
      ]
     },
     "execution_count": 19,
     "metadata": {},
     "output_type": "execute_result"
    }
   ],
   "source": [
    "# '../input/melbourne-housing-snapshot/melb_data.csv'\n",
    "# home_data\n",
    "# iowa_file_path"
   ]
  },
  {
   "cell_type": "code",
   "execution_count": null,
   "id": "b9234af2-3e68-48df-bd3c-fa7f845f58b7",
   "metadata": {},
   "outputs": [],
   "source": []
  }
 ],
 "metadata": {
  "kernelspec": {
   "display_name": "Python [conda env:base] *",
   "language": "python",
   "name": "conda-base-py"
  },
  "language_info": {
   "codemirror_mode": {
    "name": "ipython",
    "version": 3
   },
   "file_extension": ".py",
   "mimetype": "text/x-python",
   "name": "python",
   "nbconvert_exporter": "python",
   "pygments_lexer": "ipython3",
   "version": "3.12.7"
  }
 },
 "nbformat": 4,
 "nbformat_minor": 5
}
