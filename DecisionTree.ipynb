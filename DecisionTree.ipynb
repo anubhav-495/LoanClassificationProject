{
 "cells": [
  {
   "cell_type": "code",
   "execution_count": 1,
   "id": "65f5c2f7-d85f-4fc3-97eb-01c742540119",
   "metadata": {},
   "outputs": [],
   "source": [
    "import numpy as np\n",
    "import pandas as pd \n",
    "import matplotlib.pyplot as plt\n",
    "import seaborn as sns \n",
    "import warnings\n",
    "warnings.simplefilter(\"ignore\")"
   ]
  },
  {
   "cell_type": "code",
   "execution_count": 2,
   "id": "2d617103-1028-4bee-a0b9-77d48cbd2a93",
   "metadata": {},
   "outputs": [],
   "source": [
    "df=pd.read_csv(\"CleanedLoanData.csv\")"
   ]
  },
  {
   "cell_type": "code",
   "execution_count": 3,
   "id": "3aeeacf1-498a-4ee2-bf3b-c7c4356c4dbf",
   "metadata": {},
   "outputs": [],
   "source": [
    "x=df.drop(\"loan_status\",axis=1)\n",
    "y=df[\"loan_status\"]"
   ]
  },
  {
   "cell_type": "code",
   "execution_count": 4,
   "id": "79aeeba5-7faa-4de5-9eb3-1e76230e4063",
   "metadata": {},
   "outputs": [],
   "source": [
    "contnious=[\"person_age\",\"person_income\",\"loan_amnt\",\"loan_int_rate\",\"loan_percent_income\",\n",
    "          \"credit_score\"]"
   ]
  },
  {
   "cell_type": "code",
   "execution_count": 5,
   "id": "abdd3880-562e-4960-bf75-2edc7823f94b",
   "metadata": {},
   "outputs": [],
   "source": [
    "from sklearn.model_selection import train_test_split\n",
    "x_train,x_test,y_train,y_test=train_test_split(x,y,train_size=0.8,random_state=77)"
   ]
  },
  {
   "cell_type": "code",
   "execution_count": 6,
   "id": "8bbc0efc-29f7-401a-9b80-ef094160dd30",
   "metadata": {},
   "outputs": [],
   "source": [
    "from sklearn.preprocessing import StandardScaler\n",
    "sc=StandardScaler()\n",
    "x_train[contnious]=sc.fit_transform(x_train[contnious])\n",
    "x_test[contnious]=sc.transform(x_test[contnious])"
   ]
  },
  {
   "cell_type": "code",
   "execution_count": 7,
   "id": "8a615922-19c3-485c-bda8-b77c9d7c34dd",
   "metadata": {},
   "outputs": [
    {
     "name": "stdout",
     "output_type": "stream",
     "text": [
      "TrainAccuracy:  1.0   TrainCV:  0.9009334012439998\n"
     ]
    }
   ],
   "source": [
    "from sklearn.tree import DecisionTreeClassifier\n",
    "from sklearn.metrics import accuracy_score\n",
    "from sklearn.model_selection import cross_val_score\n",
    "\n",
    "#Modeling\n",
    "model=DecisionTreeClassifier(random_state=True)\n",
    "model.fit(x_train,y_train)\n",
    "\n",
    "#Prediction\n",
    "yPredTrain=model.predict(x_train)\n",
    "\n",
    "#Accuracy\n",
    "TrainAccuracy=accuracy_score(y_train,yPredTrain)\n",
    "\n",
    "# CV\n",
    "TrainCV=cross_val_score(model,x_train,y_train,cv=5,scoring=\"accuracy\").mean()\n",
    "\n",
    "# print O/P\n",
    "print(\"TrainAccuracy: \",TrainAccuracy,\" \",\"TrainCV: \",TrainCV)"
   ]
  },
  {
   "cell_type": "code",
   "execution_count": 8,
   "id": "acbcacb7-3c4b-4f05-aaa7-71c0c7aa4e15",
   "metadata": {},
   "outputs": [
    {
     "data": {
      "text/plain": [
       "31"
      ]
     },
     "execution_count": 8,
     "metadata": {},
     "output_type": "execute_result"
    }
   ],
   "source": [
    "model.get_depth()"
   ]
  },
  {
   "cell_type": "code",
   "execution_count": 20,
   "id": "cc79dd3f-7189-4724-bf82-03ea1d47eee8",
   "metadata": {},
   "outputs": [
    {
     "data": {
      "text/plain": [
       "{'criterion': 'entropy', 'max_depth': 11}"
      ]
     },
     "execution_count": 20,
     "metadata": {},
     "output_type": "execute_result"
    }
   ],
   "source": [
    "# from sklearn.tree import DecisionTreeClassifier\n",
    "# from sklearn.model_selection import GridSearchCV\n",
    "# estimator=DecisionTreeClassifier\n",
    "# param_grid={'criterion':[\"gini\",\"entropy\"],\"max_depth\":len(range(1,32))}\n",
    "# grid=GridSearchCV(estimator,param_grid,cv=5,scoring=\"accuracy\")\n",
    "# grid.fit(x_train,y_train)\n",
    "# grid.best_params_\n",
    "\n",
    "\n",
    "\n",
    "from sklearn.model_selection import GridSearchCV\n",
    "from sklearn.tree import DecisionTreeClassifier\n",
    "esstimator=DecisionTreeClassifier(random_state=True)\n",
    "\n",
    "param_grid={\"criterion\":[\"gini\",\"entropy\"],\"max_depth\": list(range(1,32))}\n",
    "grid=GridSearchCV(esstimator,param_grid,cv=5,scoring=\"accuracy\")\n",
    "grid.fit(x_train,y_train)\n",
    "grid.best_params_"
   ]
  },
  {
   "cell_type": "code",
   "execution_count": 34,
   "id": "fe9e0848-4934-4f74-8b00-d95fc7168fdb",
   "metadata": {},
   "outputs": [
    {
     "data": {
      "text/plain": [
       "array([0.00444573, 0.00103259, 0.08527327, 0.00199459, 0.00643205,\n",
       "       0.14168888, 0.13929878, 0.00240951, 0.01919713, 0.00090557,\n",
       "       0.        , 0.01229939, 0.05657287, 0.00232759, 0.00797231,\n",
       "       0.00668632, 0.00173715, 0.01277271, 0.49695357])"
      ]
     },
     "execution_count": 34,
     "metadata": {},
     "output_type": "execute_result"
    }
   ],
   "source": [
    "grid.best_estimator_.feature_importances_"
   ]
  },
  {
   "cell_type": "code",
   "execution_count": 36,
   "id": "5b3f2b11-695e-4f04-9d0f-ec6c503728fc",
   "metadata": {},
   "outputs": [
    {
     "data": {
      "text/html": [
       "<div>\n",
       "<style scoped>\n",
       "    .dataframe tbody tr th:only-of-type {\n",
       "        vertical-align: middle;\n",
       "    }\n",
       "\n",
       "    .dataframe tbody tr th {\n",
       "        vertical-align: top;\n",
       "    }\n",
       "\n",
       "    .dataframe thead th {\n",
       "        text-align: right;\n",
       "    }\n",
       "</style>\n",
       "<table border=\"1\" class=\"dataframe\">\n",
       "  <thead>\n",
       "    <tr style=\"text-align: right;\">\n",
       "      <th></th>\n",
       "      <th>important_feature</th>\n",
       "    </tr>\n",
       "  </thead>\n",
       "  <tbody>\n",
       "    <tr>\n",
       "      <th>person_age</th>\n",
       "      <td>0.004446</td>\n",
       "    </tr>\n",
       "    <tr>\n",
       "      <th>person_education</th>\n",
       "      <td>0.001033</td>\n",
       "    </tr>\n",
       "    <tr>\n",
       "      <th>person_income</th>\n",
       "      <td>0.085273</td>\n",
       "    </tr>\n",
       "    <tr>\n",
       "      <th>person_emp_exp</th>\n",
       "      <td>0.001995</td>\n",
       "    </tr>\n",
       "    <tr>\n",
       "      <th>loan_amnt</th>\n",
       "      <td>0.006432</td>\n",
       "    </tr>\n",
       "    <tr>\n",
       "      <th>loan_int_rate</th>\n",
       "      <td>0.141689</td>\n",
       "    </tr>\n",
       "    <tr>\n",
       "      <th>loan_percent_income</th>\n",
       "      <td>0.139299</td>\n",
       "    </tr>\n",
       "    <tr>\n",
       "      <th>cb_person_cred_hist_length</th>\n",
       "      <td>0.002410</td>\n",
       "    </tr>\n",
       "    <tr>\n",
       "      <th>credit_score</th>\n",
       "      <td>0.019197</td>\n",
       "    </tr>\n",
       "    <tr>\n",
       "      <th>person_gender_male</th>\n",
       "      <td>0.000906</td>\n",
       "    </tr>\n",
       "    <tr>\n",
       "      <th>person_home_ownership_OTHER</th>\n",
       "      <td>0.000000</td>\n",
       "    </tr>\n",
       "    <tr>\n",
       "      <th>person_home_ownership_OWN</th>\n",
       "      <td>0.012299</td>\n",
       "    </tr>\n",
       "    <tr>\n",
       "      <th>person_home_ownership_RENT</th>\n",
       "      <td>0.056573</td>\n",
       "    </tr>\n",
       "    <tr>\n",
       "      <th>loan_intent_EDUCATION</th>\n",
       "      <td>0.002328</td>\n",
       "    </tr>\n",
       "    <tr>\n",
       "      <th>loan_intent_HOMEIMPROVEMENT</th>\n",
       "      <td>0.007972</td>\n",
       "    </tr>\n",
       "    <tr>\n",
       "      <th>loan_intent_MEDICAL</th>\n",
       "      <td>0.006686</td>\n",
       "    </tr>\n",
       "    <tr>\n",
       "      <th>loan_intent_PERSONAL</th>\n",
       "      <td>0.001737</td>\n",
       "    </tr>\n",
       "    <tr>\n",
       "      <th>loan_intent_VENTURE</th>\n",
       "      <td>0.012773</td>\n",
       "    </tr>\n",
       "    <tr>\n",
       "      <th>previous_loan_defaults_on_file_Yes</th>\n",
       "      <td>0.496954</td>\n",
       "    </tr>\n",
       "  </tbody>\n",
       "</table>\n",
       "</div>"
      ],
      "text/plain": [
       "                                    important_feature\n",
       "person_age                                   0.004446\n",
       "person_education                             0.001033\n",
       "person_income                                0.085273\n",
       "person_emp_exp                               0.001995\n",
       "loan_amnt                                    0.006432\n",
       "loan_int_rate                                0.141689\n",
       "loan_percent_income                          0.139299\n",
       "cb_person_cred_hist_length                   0.002410\n",
       "credit_score                                 0.019197\n",
       "person_gender_male                           0.000906\n",
       "person_home_ownership_OTHER                  0.000000\n",
       "person_home_ownership_OWN                    0.012299\n",
       "person_home_ownership_RENT                   0.056573\n",
       "loan_intent_EDUCATION                        0.002328\n",
       "loan_intent_HOMEIMPROVEMENT                  0.007972\n",
       "loan_intent_MEDICAL                          0.006686\n",
       "loan_intent_PERSONAL                         0.001737\n",
       "loan_intent_VENTURE                          0.012773\n",
       "previous_loan_defaults_on_file_Yes           0.496954"
      ]
     },
     "execution_count": 36,
     "metadata": {},
     "output_type": "execute_result"
    }
   ],
   "source": [
    "impDF=pd.DataFrame(grid.best_estimator_.feature_importances_,\n",
    "                  columns=[\"important_feature\"],\n",
    "                  index=x_train.columns.tolist())\n",
    "impDF"
   ]
  },
  {
   "cell_type": "code",
   "execution_count": 42,
   "id": "feda0d51-6b94-4a32-80ee-e1e0a5bfced4",
   "metadata": {},
   "outputs": [],
   "source": [
    "impCol=impDF[impDF[\"important_feature\"]>0].index.tolist()"
   ]
  },
  {
   "cell_type": "code",
   "execution_count": 52,
   "id": "4744a7d3-ed14-4361-b5f8-54d35bbf580f",
   "metadata": {},
   "outputs": [],
   "source": [
    "x_train=x_train[impCol]\n",
    "x_test=x_test[impCol]\n"
   ]
  },
  {
   "cell_type": "code",
   "execution_count": 56,
   "id": "048d5da1-1f57-493e-9efb-eb7c9dc7dc48",
   "metadata": {},
   "outputs": [
    {
     "name": "stdout",
     "output_type": "stream",
     "text": [
      "accuracyTrain:  0.9347705300588954   accuracyTest:  0.9167685298366485   TrainCV:  0.921491252643114\n"
     ]
    }
   ],
   "source": [
    "#modeling\n",
    "from sklearn.tree import DecisionTreeClassifier\n",
    "model=DecisionTreeClassifier(criterion='entropy',max_depth=11,random_state=True)\n",
    "model.fit(x_train,y_train)\n",
    "\n",
    "#prediction\n",
    "Y_predTrain=model.predict(x_train)\n",
    "Y_predTest=model.predict(x_test)\n",
    "\n",
    "#Evalution\n",
    "from sklearn.metrics import accuracy_score \n",
    "accuracyTrain=accuracy_score(y_train,Y_predTrain)\n",
    "accuracyTest=accuracy_score(y_test,Y_predTest)\n",
    "\n",
    "#CV\n",
    "from sklearn.model_selection import cross_val_score\n",
    "TrainCV=cross_val_score(model,x_train,y_train,cv=5,scoring=\"accuracy\").mean()\n",
    "\n",
    "print(\"accuracyTrain: \",accuracyTrain,\" \",\"accuracyTest: \",accuracyTest,\" \",\"TrainCV: \" ,TrainCV)\n"
   ]
  },
  {
   "cell_type": "code",
   "execution_count": null,
   "id": "e732512e-a457-44cc-a1f2-78f6bb7ac029",
   "metadata": {},
   "outputs": [],
   "source": []
  }
 ],
 "metadata": {
  "kernelspec": {
   "display_name": "Python [conda env:base] *",
   "language": "python",
   "name": "conda-base-py"
  },
  "language_info": {
   "codemirror_mode": {
    "name": "ipython",
    "version": 3
   },
   "file_extension": ".py",
   "mimetype": "text/x-python",
   "name": "python",
   "nbconvert_exporter": "python",
   "pygments_lexer": "ipython3",
   "version": "3.12.7"
  }
 },
 "nbformat": 4,
 "nbformat_minor": 5
}
