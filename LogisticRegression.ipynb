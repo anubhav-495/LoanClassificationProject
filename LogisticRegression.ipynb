{
 "cells": [
  {
   "cell_type": "code",
   "execution_count": 1,
   "id": "ee3820f9-b702-414d-bb42-2db9386e5932",
   "metadata": {},
   "outputs": [],
   "source": [
    "import numpy as np\n",
    "import pandas as pd \n",
    "import matplotlib.pyplot as plt\n",
    "import seaborn as sns \n",
    "import warnings\n",
    "warnings.simplefilter(\"ignore\")"
   ]
  },
  {
   "cell_type": "code",
   "execution_count": 3,
   "id": "a3adf48d-8bd2-4234-bb95-e788ca8eaf78",
   "metadata": {},
   "outputs": [],
   "source": [
    "df=pd.read_csv(\"CleanedLoanData.csv\")"
   ]
  },
  {
   "cell_type": "code",
   "execution_count": 9,
   "id": "004fccad-c623-45f6-991e-2f3195e45049",
   "metadata": {},
   "outputs": [
    {
     "data": {
      "text/html": [
       "<div>\n",
       "<style scoped>\n",
       "    .dataframe tbody tr th:only-of-type {\n",
       "        vertical-align: middle;\n",
       "    }\n",
       "\n",
       "    .dataframe tbody tr th {\n",
       "        vertical-align: top;\n",
       "    }\n",
       "\n",
       "    .dataframe thead th {\n",
       "        text-align: right;\n",
       "    }\n",
       "</style>\n",
       "<table border=\"1\" class=\"dataframe\">\n",
       "  <thead>\n",
       "    <tr style=\"text-align: right;\">\n",
       "      <th></th>\n",
       "      <th>person_age</th>\n",
       "      <th>person_education</th>\n",
       "      <th>person_income</th>\n",
       "      <th>person_emp_exp</th>\n",
       "      <th>loan_amnt</th>\n",
       "      <th>loan_int_rate</th>\n",
       "      <th>loan_percent_income</th>\n",
       "      <th>cb_person_cred_hist_length</th>\n",
       "      <th>credit_score</th>\n",
       "      <th>loan_status</th>\n",
       "      <th>person_gender_male</th>\n",
       "      <th>person_home_ownership_OTHER</th>\n",
       "      <th>person_home_ownership_OWN</th>\n",
       "      <th>person_home_ownership_RENT</th>\n",
       "      <th>loan_intent_EDUCATION</th>\n",
       "      <th>loan_intent_HOMEIMPROVEMENT</th>\n",
       "      <th>loan_intent_MEDICAL</th>\n",
       "      <th>loan_intent_PERSONAL</th>\n",
       "      <th>loan_intent_VENTURE</th>\n",
       "      <th>previous_loan_defaults_on_file_Yes</th>\n",
       "    </tr>\n",
       "  </thead>\n",
       "  <tbody>\n",
       "    <tr>\n",
       "      <th>0</th>\n",
       "      <td>0.400888</td>\n",
       "      <td>3</td>\n",
       "      <td>7.116215</td>\n",
       "      <td>0</td>\n",
       "      <td>44.928204</td>\n",
       "      <td>16.02</td>\n",
       "      <td>0.181480</td>\n",
       "      <td>3.0</td>\n",
       "      <td>561</td>\n",
       "      <td>1</td>\n",
       "      <td>False</td>\n",
       "      <td>False</td>\n",
       "      <td>False</td>\n",
       "      <td>True</td>\n",
       "      <td>False</td>\n",
       "      <td>False</td>\n",
       "      <td>False</td>\n",
       "      <td>True</td>\n",
       "      <td>False</td>\n",
       "      <td>False</td>\n",
       "    </tr>\n",
       "    <tr>\n",
       "      <th>1</th>\n",
       "      <td>0.400869</td>\n",
       "      <td>2</td>\n",
       "      <td>6.401416</td>\n",
       "      <td>0</td>\n",
       "      <td>17.192952</td>\n",
       "      <td>11.14</td>\n",
       "      <td>0.064705</td>\n",
       "      <td>2.0</td>\n",
       "      <td>504</td>\n",
       "      <td>0</td>\n",
       "      <td>False</td>\n",
       "      <td>False</td>\n",
       "      <td>True</td>\n",
       "      <td>False</td>\n",
       "      <td>True</td>\n",
       "      <td>False</td>\n",
       "      <td>False</td>\n",
       "      <td>False</td>\n",
       "      <td>False</td>\n",
       "      <td>True</td>\n",
       "    </tr>\n",
       "    <tr>\n",
       "      <th>2</th>\n",
       "      <td>0.400930</td>\n",
       "      <td>2</td>\n",
       "      <td>6.406924</td>\n",
       "      <td>3</td>\n",
       "      <td>27.675832</td>\n",
       "      <td>12.87</td>\n",
       "      <td>0.175681</td>\n",
       "      <td>3.0</td>\n",
       "      <td>635</td>\n",
       "      <td>1</td>\n",
       "      <td>False</td>\n",
       "      <td>False</td>\n",
       "      <td>False</td>\n",
       "      <td>False</td>\n",
       "      <td>False</td>\n",
       "      <td>False</td>\n",
       "      <td>True</td>\n",
       "      <td>False</td>\n",
       "      <td>False</td>\n",
       "      <td>False</td>\n",
       "    </tr>\n",
       "    <tr>\n",
       "      <th>3</th>\n",
       "      <td>0.400904</td>\n",
       "      <td>0</td>\n",
       "      <td>7.154530</td>\n",
       "      <td>0</td>\n",
       "      <td>44.928204</td>\n",
       "      <td>15.23</td>\n",
       "      <td>0.175681</td>\n",
       "      <td>2.0</td>\n",
       "      <td>675</td>\n",
       "      <td>1</td>\n",
       "      <td>False</td>\n",
       "      <td>False</td>\n",
       "      <td>False</td>\n",
       "      <td>True</td>\n",
       "      <td>False</td>\n",
       "      <td>False</td>\n",
       "      <td>True</td>\n",
       "      <td>False</td>\n",
       "      <td>False</td>\n",
       "      <td>False</td>\n",
       "    </tr>\n",
       "    <tr>\n",
       "      <th>4</th>\n",
       "      <td>0.400918</td>\n",
       "      <td>3</td>\n",
       "      <td>7.084614</td>\n",
       "      <td>1</td>\n",
       "      <td>44.928204</td>\n",
       "      <td>14.27</td>\n",
       "      <td>0.185389</td>\n",
       "      <td>4.0</td>\n",
       "      <td>586</td>\n",
       "      <td>1</td>\n",
       "      <td>True</td>\n",
       "      <td>False</td>\n",
       "      <td>False</td>\n",
       "      <td>True</td>\n",
       "      <td>False</td>\n",
       "      <td>False</td>\n",
       "      <td>True</td>\n",
       "      <td>False</td>\n",
       "      <td>False</td>\n",
       "      <td>False</td>\n",
       "    </tr>\n",
       "  </tbody>\n",
       "</table>\n",
       "</div>"
      ],
      "text/plain": [
       "   person_age  person_education  person_income  person_emp_exp  loan_amnt  \\\n",
       "0    0.400888                 3       7.116215               0  44.928204   \n",
       "1    0.400869                 2       6.401416               0  17.192952   \n",
       "2    0.400930                 2       6.406924               3  27.675832   \n",
       "3    0.400904                 0       7.154530               0  44.928204   \n",
       "4    0.400918                 3       7.084614               1  44.928204   \n",
       "\n",
       "   loan_int_rate  loan_percent_income  cb_person_cred_hist_length  \\\n",
       "0          16.02             0.181480                         3.0   \n",
       "1          11.14             0.064705                         2.0   \n",
       "2          12.87             0.175681                         3.0   \n",
       "3          15.23             0.175681                         2.0   \n",
       "4          14.27             0.185389                         4.0   \n",
       "\n",
       "   credit_score  loan_status  person_gender_male  person_home_ownership_OTHER  \\\n",
       "0           561            1               False                        False   \n",
       "1           504            0               False                        False   \n",
       "2           635            1               False                        False   \n",
       "3           675            1               False                        False   \n",
       "4           586            1                True                        False   \n",
       "\n",
       "   person_home_ownership_OWN  person_home_ownership_RENT  \\\n",
       "0                      False                        True   \n",
       "1                       True                       False   \n",
       "2                      False                       False   \n",
       "3                      False                        True   \n",
       "4                      False                        True   \n",
       "\n",
       "   loan_intent_EDUCATION  loan_intent_HOMEIMPROVEMENT  loan_intent_MEDICAL  \\\n",
       "0                  False                        False                False   \n",
       "1                   True                        False                False   \n",
       "2                  False                        False                 True   \n",
       "3                  False                        False                 True   \n",
       "4                  False                        False                 True   \n",
       "\n",
       "   loan_intent_PERSONAL  loan_intent_VENTURE  \\\n",
       "0                  True                False   \n",
       "1                 False                False   \n",
       "2                 False                False   \n",
       "3                 False                False   \n",
       "4                 False                False   \n",
       "\n",
       "   previous_loan_defaults_on_file_Yes  \n",
       "0                               False  \n",
       "1                                True  \n",
       "2                               False  \n",
       "3                               False  \n",
       "4                               False  "
      ]
     },
     "execution_count": 9,
     "metadata": {},
     "output_type": "execute_result"
    }
   ],
   "source": [
    "df.head()"
   ]
  },
  {
   "cell_type": "code",
   "execution_count": 23,
   "id": "69880cdc-7b2a-49b7-a57e-adff664c4154",
   "metadata": {},
   "outputs": [],
   "source": [
    "contnious=[\"person_age\",\"person_income\",\"loan_amnt\",\"loan_int_rate\",\"loan_percent_income\",\n",
    "          \"credit_score\"]"
   ]
  },
  {
   "cell_type": "code",
   "execution_count": 7,
   "id": "aec7e34c-2bc6-408b-8031-5605540087ef",
   "metadata": {},
   "outputs": [],
   "source": [
    "x=df.drop(\"loan_status\",axis=1)\n",
    "y=df[\"loan_status\"]"
   ]
  },
  {
   "cell_type": "code",
   "execution_count": 17,
   "id": "9a63e977-cf0a-4b9d-b491-66c961ff4e86",
   "metadata": {},
   "outputs": [],
   "source": [
    "from sklearn.model_selection import train_test_split\n",
    "x_train,x_test,y_train,y_test=train_test_split(x,y,train_size=0.8,random_state=77)"
   ]
  },
  {
   "cell_type": "code",
   "execution_count": 27,
   "id": "3b38e46d-430c-4281-87e9-cd5b53c401a3",
   "metadata": {},
   "outputs": [],
   "source": [
    "from sklearn.preprocessing import StandardScaler\n",
    "sfc=StandardScaler()\n",
    "x_train[contnious]=sc.fit_transform(x_train[contnious])\n",
    "x_test[contnious]=sc.fit_transform(x_test[contnious])"
   ]
  },
  {
   "cell_type": "code",
   "execution_count": 33,
   "id": "8164472b-892f-4413-835a-325326b8a965",
   "metadata": {},
   "outputs": [
    {
     "name": "stdout",
     "output_type": "stream",
     "text": [
      "TrainAccuracy:  0.8943771530170019   TestAccuracy:  0.894877208578731   TrainCV 0.8942103764411724\n"
     ]
    }
   ],
   "source": [
    "from sklearn.linear_model import LogisticRegression\n",
    "\n",
    "#Model\n",
    "model=LogisticRegression(random_state=77)\n",
    "model.fit(x_train,y_train)\n",
    "\n",
    "# Prediction\n",
    "ypredTrain=model.predict(x_train)\n",
    "ypredTest=model.predict(x_test)\n",
    "\n",
    "#Accuracy\n",
    "from sklearn.metrics import accuracy_score\n",
    "TrainAccuracy=accuracy_score(y_train,ypredTrain)\n",
    "TestAccuracy=accuracy_score(y_test,ypredTest)\n",
    "\n",
    "#CrossVal\n",
    "from sklearn.model_selection import cross_val_score\n",
    "TrainCV=cross_val_score(model,x_train,y_train,cv=5,scoring=\"accuracy\").mean()\n",
    "\n",
    "#print\n",
    "print(\"TrainAccuracy: \",TrainAccuracy,\" \",\"TestAccuracy: \",TestAccuracy,\" \",\"TrainCV\",TrainCV)"
   ]
  },
  {
   "cell_type": "code",
   "execution_count": 39,
   "id": "ca73cfe2-eadd-4e2d-8f1b-cf409c51f81e",
   "metadata": {},
   "outputs": [
    {
     "data": {
      "text/plain": [
       "<sklearn.metrics._plot.confusion_matrix.ConfusionMatrixDisplay at 0x29d2edef4d0>"
      ]
     },
     "execution_count": 39,
     "metadata": {},
     "output_type": "execute_result"
    },
    {
     "data": {
      "image/png": "[encoded data removed]",
      "text/plain": [
       "<Figure size 640x480 with 2 Axes>"
      ]
     },
     "metadata": {},
     "output_type": "display_data"
    }
   ],
   "source": [
    "from sklearn.metrics import confusion_matrix,ConfusionMatrixDisplay\n",
    "cm=confusion_matrix(y_test,ypredTest)\n",
    "cmd=ConfusionMatrixDisplay(cm).plot()\n",
    "cmd"
   ]
  },
  {
   "cell_type": "code",
   "execution_count": 47,
   "id": "c88c7993-0ee3-4870-b08c-c423c50c0dab",
   "metadata": {},
   "outputs": [],
   "source": [
    "from sklearn.metrics import roc_curve,auc,roc_auc_score\n",
    "fpr,tpr,thershold=roc_curve(y_test,ypredTest)"
   ]
  },
  {
   "cell_type": "code",
   "execution_count": 59,
   "id": "e4f9d7af-1c0e-4029-9c3f-e66407c6bd67",
   "metadata": {},
   "outputs": [
    {
     "data": {
      "text/plain": [
       "0.8487823718295786"
      ]
     },
     "execution_count": 59,
     "metadata": {},
     "output_type": "execute_result"
    }
   ],
   "source": [
    "roc_auc=auc(fpr,tpr)\n",
    "roc_auc"
   ]
  },
  {
   "cell_type": "code",
   "execution_count": 63,
   "id": "9f6c9d9a-4edc-414c-b1a0-e37d7a48c298",
   "metadata": {},
   "outputs": [
    {
     "data": {
      "text/plain": [
       "<sklearn.metrics._plot.roc_curve.RocCurveDisplay at 0x29d320cbbc0>"
      ]
     },
     "execution_count": 63,
     "metadata": {},
     "output_type": "execute_result"
    },
    {
     "data": {
      "image/png": "[encoded data removed]",
      "text/plain": [
       "<Figure size 640x480 with 1 Axes>"
      ]
     },
     "metadata": {},
     "output_type": "display_data"
    }
   ],
   "source": [
    "from sklearn.metrics import RocCurveDisplay\n",
    "RocCurveDisplay(fpr=fpr,tpr=tpr,roc_auc=roc_auc).plot()"
   ]
  },
  {
   "cell_type": "code",
   "execution_count": 55,
   "id": "201b50f7-cf8f-4f9e-986c-a528e27b579a",
   "metadata": {},
   "outputs": [
    {
     "data": {
      "text/plain": [
       "0.8487823718295786"
      ]
     },
     "execution_count": 55,
     "metadata": {},
     "output_type": "execute_result"
    }
   ],
   "source": [
    "roc_auc_score(y_test,ypredTest)"
   ]
  },
  {
   "cell_type": "code",
   "execution_count": null,
   "id": "22008403-2e87-46de-80fd-960c71e51a1f",
   "metadata": {},
   "outputs": [],
   "source": []
  }
 ],
 "metadata": {
  "kernelspec": {
   "display_name": "Python [conda env:base] *",
   "language": "python",
   "name": "conda-base-py"
  },
  "language_info": {
   "codemirror_mode": {
    "name": "ipython",
    "version": 3
   },
   "file_extension": ".py",
   "mimetype": "text/x-python",
   "name": "python",
   "nbconvert_exporter": "python",
   "pygments_lexer": "ipython3",
   "version": "3.12.7"
  }
 },
 "nbformat": 4,
 "nbformat_minor": 5
}
