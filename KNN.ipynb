{
 "cells": [
  {
   "cell_type": "code",
   "execution_count": 1,
   "id": "580d62f6-0924-4048-9220-9d9af2194fb3",
   "metadata": {},
   "outputs": [],
   "source": [
    "import numpy as np\n",
    "import pandas as pd \n",
    "import matplotlib.pyplot as plt\n",
    "import seaborn as sns \n",
    "import warnings\n",
    "warnings.simplefilter(\"ignore\")"
   ]
  },
  {
   "cell_type": "code",
   "execution_count": 2,
   "id": "2ec79dfc-3993-40d7-bb6a-ccf433b2acd7",
   "metadata": {},
   "outputs": [],
   "source": [
    "df=pd.read_csv(\"CleanedLoanData.csv\")"
   ]
  },
  {
   "cell_type": "code",
   "execution_count": 3,
   "id": "f61e51d0-22d7-4513-b51b-9c7814d7b495",
   "metadata": {},
   "outputs": [
    {
     "data": {
      "text/html": [
       "<div>\n",
       "<style scoped>\n",
       "    .dataframe tbody tr th:only-of-type {\n",
       "        vertical-align: middle;\n",
       "    }\n",
       "\n",
       "    .dataframe tbody tr th {\n",
       "        vertical-align: top;\n",
       "    }\n",
       "\n",
       "    .dataframe thead th {\n",
       "        text-align: right;\n",
       "    }\n",
       "</style>\n",
       "<table border=\"1\" class=\"dataframe\">\n",
       "  <thead>\n",
       "    <tr style=\"text-align: right;\">\n",
       "      <th></th>\n",
       "      <th>person_age</th>\n",
       "      <th>person_education</th>\n",
       "      <th>person_income</th>\n",
       "      <th>person_emp_exp</th>\n",
       "      <th>loan_amnt</th>\n",
       "      <th>loan_int_rate</th>\n",
       "      <th>loan_percent_income</th>\n",
       "      <th>cb_person_cred_hist_length</th>\n",
       "      <th>credit_score</th>\n",
       "      <th>loan_status</th>\n",
       "      <th>person_gender_male</th>\n",
       "      <th>person_home_ownership_OTHER</th>\n",
       "      <th>person_home_ownership_OWN</th>\n",
       "      <th>person_home_ownership_RENT</th>\n",
       "      <th>loan_intent_EDUCATION</th>\n",
       "      <th>loan_intent_HOMEIMPROVEMENT</th>\n",
       "      <th>loan_intent_MEDICAL</th>\n",
       "      <th>loan_intent_PERSONAL</th>\n",
       "      <th>loan_intent_VENTURE</th>\n",
       "      <th>previous_loan_defaults_on_file_Yes</th>\n",
       "    </tr>\n",
       "  </thead>\n",
       "  <tbody>\n",
       "    <tr>\n",
       "      <th>0</th>\n",
       "      <td>0.400888</td>\n",
       "      <td>3</td>\n",
       "      <td>7.116215</td>\n",
       "      <td>0</td>\n",
       "      <td>44.928204</td>\n",
       "      <td>16.02</td>\n",
       "      <td>0.181480</td>\n",
       "      <td>3.0</td>\n",
       "      <td>561</td>\n",
       "      <td>1</td>\n",
       "      <td>False</td>\n",
       "      <td>False</td>\n",
       "      <td>False</td>\n",
       "      <td>True</td>\n",
       "      <td>False</td>\n",
       "      <td>False</td>\n",
       "      <td>False</td>\n",
       "      <td>True</td>\n",
       "      <td>False</td>\n",
       "      <td>False</td>\n",
       "    </tr>\n",
       "    <tr>\n",
       "      <th>1</th>\n",
       "      <td>0.400869</td>\n",
       "      <td>2</td>\n",
       "      <td>6.401416</td>\n",
       "      <td>0</td>\n",
       "      <td>17.192952</td>\n",
       "      <td>11.14</td>\n",
       "      <td>0.064705</td>\n",
       "      <td>2.0</td>\n",
       "      <td>504</td>\n",
       "      <td>0</td>\n",
       "      <td>False</td>\n",
       "      <td>False</td>\n",
       "      <td>True</td>\n",
       "      <td>False</td>\n",
       "      <td>True</td>\n",
       "      <td>False</td>\n",
       "      <td>False</td>\n",
       "      <td>False</td>\n",
       "      <td>False</td>\n",
       "      <td>True</td>\n",
       "    </tr>\n",
       "    <tr>\n",
       "      <th>2</th>\n",
       "      <td>0.400930</td>\n",
       "      <td>2</td>\n",
       "      <td>6.406924</td>\n",
       "      <td>3</td>\n",
       "      <td>27.675832</td>\n",
       "      <td>12.87</td>\n",
       "      <td>0.175681</td>\n",
       "      <td>3.0</td>\n",
       "      <td>635</td>\n",
       "      <td>1</td>\n",
       "      <td>False</td>\n",
       "      <td>False</td>\n",
       "      <td>False</td>\n",
       "      <td>False</td>\n",
       "      <td>False</td>\n",
       "      <td>False</td>\n",
       "      <td>True</td>\n",
       "      <td>False</td>\n",
       "      <td>False</td>\n",
       "      <td>False</td>\n",
       "    </tr>\n",
       "    <tr>\n",
       "      <th>3</th>\n",
       "      <td>0.400904</td>\n",
       "      <td>0</td>\n",
       "      <td>7.154530</td>\n",
       "      <td>0</td>\n",
       "      <td>44.928204</td>\n",
       "      <td>15.23</td>\n",
       "      <td>0.175681</td>\n",
       "      <td>2.0</td>\n",
       "      <td>675</td>\n",
       "      <td>1</td>\n",
       "      <td>False</td>\n",
       "      <td>False</td>\n",
       "      <td>False</td>\n",
       "      <td>True</td>\n",
       "      <td>False</td>\n",
       "      <td>False</td>\n",
       "      <td>True</td>\n",
       "      <td>False</td>\n",
       "      <td>False</td>\n",
       "      <td>False</td>\n",
       "    </tr>\n",
       "    <tr>\n",
       "      <th>4</th>\n",
       "      <td>0.400918</td>\n",
       "      <td>3</td>\n",
       "      <td>7.084614</td>\n",
       "      <td>1</td>\n",
       "      <td>44.928204</td>\n",
       "      <td>14.27</td>\n",
       "      <td>0.185389</td>\n",
       "      <td>4.0</td>\n",
       "      <td>586</td>\n",
       "      <td>1</td>\n",
       "      <td>True</td>\n",
       "      <td>False</td>\n",
       "      <td>False</td>\n",
       "      <td>True</td>\n",
       "      <td>False</td>\n",
       "      <td>False</td>\n",
       "      <td>True</td>\n",
       "      <td>False</td>\n",
       "      <td>False</td>\n",
       "      <td>False</td>\n",
       "    </tr>\n",
       "  </tbody>\n",
       "</table>\n",
       "</div>"
      ],
      "text/plain": [
       "   person_age  person_education  person_income  person_emp_exp  loan_amnt  \\\n",
       "0    0.400888                 3       7.116215               0  44.928204   \n",
       "1    0.400869                 2       6.401416               0  17.192952   \n",
       "2    0.400930                 2       6.406924               3  27.675832   \n",
       "3    0.400904                 0       7.154530               0  44.928204   \n",
       "4    0.400918                 3       7.084614               1  44.928204   \n",
       "\n",
       "   loan_int_rate  loan_percent_income  cb_person_cred_hist_length  \\\n",
       "0          16.02             0.181480                         3.0   \n",
       "1          11.14             0.064705                         2.0   \n",
       "2          12.87             0.175681                         3.0   \n",
       "3          15.23             0.175681                         2.0   \n",
       "4          14.27             0.185389                         4.0   \n",
       "\n",
       "   credit_score  loan_status  person_gender_male  person_home_ownership_OTHER  \\\n",
       "0           561            1               False                        False   \n",
       "1           504            0               False                        False   \n",
       "2           635            1               False                        False   \n",
       "3           675            1               False                        False   \n",
       "4           586            1                True                        False   \n",
       "\n",
       "   person_home_ownership_OWN  person_home_ownership_RENT  \\\n",
       "0                      False                        True   \n",
       "1                       True                       False   \n",
       "2                      False                       False   \n",
       "3                      False                        True   \n",
       "4                      False                        True   \n",
       "\n",
       "   loan_intent_EDUCATION  loan_intent_HOMEIMPROVEMENT  loan_intent_MEDICAL  \\\n",
       "0                  False                        False                False   \n",
       "1                   True                        False                False   \n",
       "2                  False                        False                 True   \n",
       "3                  False                        False                 True   \n",
       "4                  False                        False                 True   \n",
       "\n",
       "   loan_intent_PERSONAL  loan_intent_VENTURE  \\\n",
       "0                  True                False   \n",
       "1                 False                False   \n",
       "2                 False                False   \n",
       "3                 False                False   \n",
       "4                 False                False   \n",
       "\n",
       "   previous_loan_defaults_on_file_Yes  \n",
       "0                               False  \n",
       "1                                True  \n",
       "2                               False  \n",
       "3                               False  \n",
       "4                               False  "
      ]
     },
     "execution_count": 3,
     "metadata": {},
     "output_type": "execute_result"
    }
   ],
   "source": [
    "df.head()"
   ]
  },
  {
   "cell_type": "code",
   "execution_count": 4,
   "id": "3d246f84-9fd7-471d-90b8-c3775cf91945",
   "metadata": {},
   "outputs": [],
   "source": [
    "x=df.drop(\"loan_status\",axis=1)\n",
    "y=df[\"loan_status\"]"
   ]
  },
  {
   "cell_type": "code",
   "execution_count": 5,
   "id": "853575aa-ade9-466f-a613-4c6f82d415a4",
   "metadata": {},
   "outputs": [],
   "source": [
    "contnious=[\"person_age\",\"person_income\",\"loan_amnt\",\"loan_int_rate\",\"loan_percent_income\",\n",
    "          \"credit_score\"]"
   ]
  },
  {
   "cell_type": "code",
   "execution_count": 6,
   "id": "4a4627db-07d9-489d-9c6d-6f36402499b4",
   "metadata": {},
   "outputs": [],
   "source": [
    "from sklearn.model_selection import train_test_split\n",
    "x_train,x_test,y_train,y_test=train_test_split(x,y,train_size=0.8,random_state=77)"
   ]
  },
  {
   "cell_type": "code",
   "execution_count": 7,
   "id": "6c0c19c5-b082-4a35-b18f-32bc24a8241f",
   "metadata": {},
   "outputs": [],
   "source": [
    "from sklearn.preprocessing import StandardScaler\n",
    "sc=StandardScaler()\n",
    "x_train[contnious]=sc.fit_transform(x_train[contnious])\n",
    "x_test[contnious]=sc.transform(x_test[contnious])"
   ]
  },
  {
   "cell_type": "code",
   "execution_count": 8,
   "id": "495bbc21-24ff-4e9e-86e7-6501de4f6cb1",
   "metadata": {},
   "outputs": [
    {
     "data": {
      "text/plain": [
       "{'n_neighbors': 9}"
      ]
     },
     "execution_count": 8,
     "metadata": {},
     "output_type": "execute_result"
    }
   ],
   "source": [
    "from sklearn.neighbors import KNeighborsClassifier\n",
    "from sklearn.model_selection import GridSearchCV\n",
    "estimator=KNeighborsClassifier()\n",
    "param_grid={\"n_neighbors\":list(range(1,101))}\n",
    "grid=GridSearchCV(estimator,param_grid,cv=5,scoring=\"accuracy\")\n",
    "grid.fit(x_train,y_train)\n",
    "grid.best_params_"
   ]
  },
  {
   "cell_type": "code",
   "execution_count": 9,
   "id": "32a1fb89-d503-4d66-9133-6faf0fa80ab8",
   "metadata": {},
   "outputs": [
    {
     "name": "stdout",
     "output_type": "stream",
     "text": [
      "TrainAccuracy:  0.91079564396044   TestAccuracy:  0.889098788754306   TrainCV 0.8863762135173096\n"
     ]
    }
   ],
   "source": [
    "from sklearn.neighbors import KNeighborsClassifier\n",
    "model=KNeighborsClassifier(n_neighbors= 9)\n",
    "model.fit(x_train,y_train)\n",
    "\n",
    "#Prediction\n",
    "ypredTrain=model.predict(x_train)\n",
    "ypredTest=model.predict(x_test)\n",
    "\n",
    "#Accuracy\n",
    "from sklearn.metrics import accuracy_score\n",
    "TrainAccuracy=accuracy_score(y_train,ypredTrain)\n",
    "TestAccuracy=accuracy_score(y_test,ypredTest)\n",
    "\n",
    "#CrossVal\n",
    "from sklearn.model_selection import cross_val_score\n",
    "TrainCV=cross_val_score(model,x_train,y_train,cv=5,scoring=\"accuracy\").mean()\n",
    "\n",
    "#print\n",
    "print(\"TrainAccuracy: \",TrainAccuracy,\" \",\"TestAccuracy: \",TestAccuracy,\" \",\"TrainCV\",TrainCV)"
   ]
  },
  {
   "cell_type": "code",
   "execution_count": 10,
   "id": "9331e273-5d1e-47b1-8a2b-2be8dab8605c",
   "metadata": {},
   "outputs": [
    {
     "name": "stdout",
     "output_type": "stream",
     "text": [
      "<sklearn.metrics._plot.confusion_matrix.ConfusionMatrixDisplay object at 0x000001FF5E0DE5A0>\n"
     ]
    },
    {
     "data": {
      "image/png": "[encoded data removed]",
      "text/plain": [
       "<Figure size 640x480 with 2 Axes>"
      ]
     },
     "metadata": {},
     "output_type": "display_data"
    }
   ],
   "source": [
    "from sklearn.metrics import confusion_matrix ,ConfusionMatrixDisplay,classification_report\n",
    "cm=confusion_matrix(y_test,ypredTest)\n",
    "cmd=ConfusionMatrixDisplay(cm).plot()\n",
    "print(cmd)\n"
   ]
  },
  {
   "cell_type": "code",
   "execution_count": 11,
   "id": "cba4afb8-14b8-4e98-a112-84292fe70f11",
   "metadata": {},
   "outputs": [
    {
     "name": "stdout",
     "output_type": "stream",
     "text": [
      "              precision    recall  f1-score   support\n",
      "\n",
      "           0       0.91      0.96      0.93      7017\n",
      "           1       0.81      0.65      0.72      1982\n",
      "\n",
      "    accuracy                           0.89      8999\n",
      "   macro avg       0.86      0.80      0.83      8999\n",
      "weighted avg       0.88      0.89      0.88      8999\n",
      "\n"
     ]
    }
   ],
   "source": [
    "report=classification_report(y_test,ypredTest)\n",
    "print(report)"
   ]
  },
  {
   "cell_type": "code",
   "execution_count": null,
   "id": "03a12bf1-38dc-4515-a306-afe74acad004",
   "metadata": {},
   "outputs": [],
   "source": []
  }
 ],
 "metadata": {
  "kernelspec": {
   "display_name": "Python [conda env:base] *",
   "language": "python",
   "name": "conda-base-py"
  },
  "language_info": {
   "codemirror_mode": {
    "name": "ipython",
    "version": 3
   },
   "file_extension": ".py",
   "mimetype": "text/x-python",
   "name": "python",
   "nbconvert_exporter": "python",
   "pygments_lexer": "ipython3",
   "version": "3.12.7"
  }
 },
 "nbformat": 4,
 "nbformat_minor": 5
}
